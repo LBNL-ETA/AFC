{
 "cells": [
  {
   "cell_type": "code",
   "execution_count": 1,
   "metadata": {},
   "outputs": [],
   "source": [
    "import os\n",
    "import sys\n",
    "import time\n",
    "import json\n",
    "import logging\n",
    "import warnings\n",
    "import traceback\n",
    "import numpy as np\n",
    "import pandas as pd\n",
    "\n",
    "from fmlc.baseclasses import eFMU"
   ]
  },
  {
   "cell_type": "code",
   "execution_count": 2,
   "metadata": {},
   "outputs": [
    {
     "name": "stderr",
     "output_type": "stream",
     "text": [
      "WARNING:root:The default \"cbc\" solver was not properly installed at \"/Users/jean/opt/anaconda3/lib/python3.8/site-packages/doper/solvers/Linux64/cbc\". Need to manually set the \"solver_path\" and \"solver_name\" when calling DOPER.\n"
     ]
    }
   ],
   "source": [
    "import matplotlib.pyplot as plt\n",
    "\n",
    "# get root\n",
    "try:\n",
    "    root = os.path.dirname(os.path.abspath(__file__))\n",
    "except:\n",
    "    root = os.getcwd()\n",
    "    \n",
    "# afc modules\n",
    "sys.path.append(os.path.dirname(root))\n",
    "from afc.radiance.configs import get_config\n",
    "from afc.radiance.forecast import Forecast\n",
    "from afc.utility.weather import read_tmy3\n",
    "\n",
    "# doper modules\n",
    "from doper import DOPER, get_solver, resample_variable_ts, standard_report\n",
    "from doper.computetariff import compute_periods\n",
    "from doper.data.tariff import get_e19_2020_tariff\n",
    "from doper.models.basemodel import default_output_list\n"
   ]
  },
  {
   "cell_type": "code",
   "execution_count": 3,
   "metadata": {},
   "outputs": [],
   "source": [
    "from afc.optModel import control_model\n",
    "from afc.defaultConfig import default_parameter\n",
    "from afc.defaultConfig import ft2_to_m2\n",
    "from afc.utility.plotting import plot_standard1"
   ]
  },
  {
   "cell_type": "code",
   "execution_count": 4,
   "metadata": {},
   "outputs": [],
   "source": [
    "import json\n",
    "\n",
    "with open('current_config.json', 'r') as f:\n",
    "    config = json.load(f)"
   ]
  },
  {
   "cell_type": "code",
   "execution_count": 5,
   "metadata": {},
   "outputs": [
    {
     "data": {
      "text/plain": [
       "{'system_id': 'Test-AAA',\n",
       " 'location_state': 'CA',\n",
       " 'location_city': 'Berkeley',\n",
       " 'location_orientation': '180',\n",
       " 'room_width': '10',\n",
       " 'room_height': '11',\n",
       " 'room_depth': '15',\n",
       " 'occupant_1_location': '2',\n",
       " 'occupant_1_direction': '1',\n",
       " 'occupant_2_location': '1',\n",
       " 'occupant_2_direction': '2',\n",
       " 'occupant_3_location': '5',\n",
       " 'occupant_3_direction': '1',\n",
       " 'occupant_brightness': '100',\n",
       " 'occupant_glare': '100',\n",
       " 'window_width': '4.5',\n",
       " 'window_height': '8.5',\n",
       " 'window_sill': '0.5',\n",
       " 'window_count': '2',\n",
       " 'system_type': 'EC-Sage',\n",
       " 'system_zones': '3',\n",
       " 'system_light': 'FLU',\n",
       " 'system_lux': '400',\n",
       " 'system_cooling': 'el',\n",
       " 'system_cooling_eff': '3.5',\n",
       " 'system_heating': 'el',\n",
       " 'system_heating_eff': '0.95',\n",
       " 'location_latitude': '37.85',\n",
       " 'location_longitude': '-122.24',\n",
       " 'interface_status': 'Updated Configuration.'}"
      ]
     },
     "execution_count": 5,
     "metadata": {},
     "output_type": "execute_result"
    }
   ],
   "source": [
    "config"
   ]
  },
  {
   "cell_type": "code",
   "execution_count": 12,
   "metadata": {},
   "outputs": [],
   "source": [
    "def read_config(config):\n",
    "    \n",
    "    # Take the default parameter as a basis\n",
    "    parameter = default_parameter(precompute_radiance=False)\n",
    "    \n",
    "    \n",
    "    # Update the parameters with information from the Json file\n",
    "    \n",
    "    # Parameter radiance\n",
    "    # Location of the building\n",
    "    parameter['radiance']['location']['longitude'] = float(config['location_longitude'])\n",
    "    parameter['radiance']['location']['latitude'] = float(config['location_latitude'])\n",
    "    parameter['radiance']['location']['orient'] = int(config['location_orientation'])\n",
    "    # Dimensions of the building\n",
    "    parameter['radiance']['dimensions']['width'] = float(config['room_width'])*0.3048 #Needs to be converted in m\n",
    "    parameter['radiance']['dimensions']['depth'] = float(config['room_depth'])*0.3048\n",
    "    parameter['radiance']['dimensions']['height'] = float(config['room_height'])*0.3048\n",
    "    # Needed calculations\n",
    "    window_area = ft2_to_m2((float(config['window_height'])-float(config['window_sill'])) * float(config['window_width']) * float(config['window_count']))#in m2\n",
    "    facade_area = ft2_to_m2(float(config['room_width']) * float(config['room_height'])) #in m2\n",
    "    wwr = window_area/facade_area\n",
    "    # Suraface occupied by the windows\n",
    "    parameter['radiance']['wwr'] = round(wwr, 1)\n",
    "    \n",
    "    # Parameter facade\n",
    "    parameter['facade']['window_area'] = window_area #in m2\n",
    "    \n",
    "    # Parameter zone\n",
    "    parameter['zone']['heating_efficiency'] = float(config['system_heating_eff'])\n",
    "    parameter['zone']['cooling_efficiency'] = float(config['system_cooling_eff'])\n",
    "    parameter['zone']['param']['type'] = config['system_type']\n",
    "    parameter['zone']['lighting_capacity'] = config['system_lux']\n",
    "    \n",
    "    # Parameter occupant\n",
    "    parameter['occupant']['glare_max'] = float(config['occupant_glare'])\n",
    "    parameter['occupant']['wpi_min'] = float(config['occupant_brightness'])\n",
    "    \n",
    "    return parameter"
   ]
  },
  {
   "cell_type": "code",
   "execution_count": 13,
   "metadata": {},
   "outputs": [],
   "source": [
    "default_param = default_parameter(precompute_radiance=False)\n",
    "updated_param = read_config(config)"
   ]
  },
  {
   "cell_type": "code",
   "execution_count": 16,
   "metadata": {},
   "outputs": [
    {
     "name": "stdout",
     "output_type": "stream",
     "text": [
      "0.4\n",
      "100.0\n"
     ]
    }
   ],
   "source": [
    "print(default_param['occupant']['glare_max'])\n",
    "print(updated_param['occupant']['glare_max'])"
   ]
  },
  {
   "cell_type": "code",
   "execution_count": 17,
   "metadata": {},
   "outputs": [
    {
     "name": "stdout",
     "output_type": "stream",
     "text": [
      "6.2709552\n",
      "6.689018880000001\n"
     ]
    }
   ],
   "source": [
    "print(default_param['facade']['window_area'])\n",
    "print(updated_param['facade']['window_area'])"
   ]
  },
  {
   "cell_type": "code",
   "execution_count": 20,
   "metadata": {},
   "outputs": [
    {
     "name": "stdout",
     "output_type": "stream",
     "text": [
      "0.2857142857142857\n",
      "3.5\n"
     ]
    }
   ],
   "source": [
    "print(default_param['zone']['cooling_efficiency'])\n",
    "print(updated_param['zone']['cooling_efficiency'])"
   ]
  },
  {
   "cell_type": "code",
   "execution_count": null,
   "metadata": {},
   "outputs": [],
   "source": []
  }
 ],
 "metadata": {
  "kernelspec": {
   "display_name": "Python 3",
   "language": "python",
   "name": "python3"
  },
  "language_info": {
   "codemirror_mode": {
    "name": "ipython",
    "version": 3
   },
   "file_extension": ".py",
   "mimetype": "text/x-python",
   "name": "python",
   "nbconvert_exporter": "python",
   "pygments_lexer": "ipython3",
   "version": "3.8.5"
  },
  "latex_envs": {
   "LaTeX_envs_menu_present": true,
   "autoclose": false,
   "autocomplete": false,
   "bibliofile": "biblio.bib",
   "cite_by": "apalike",
   "current_citInitial": 1,
   "eqLabelWithNumbers": true,
   "eqNumInitial": 1,
   "hotkeys": {
    "equation": "Ctrl-E",
    "itemize": "Ctrl-I"
   },
   "labels_anchors": false,
   "latex_user_defs": false,
   "report_style_numbering": false,
   "user_envs_cfg": false
  }
 },
 "nbformat": 4,
 "nbformat_minor": 4
}
