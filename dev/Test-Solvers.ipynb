{
 "cells": [
  {
   "cell_type": "code",
   "execution_count": 1,
   "id": "c9158441",
   "metadata": {},
   "outputs": [],
   "source": [
    "import os\n",
    "import sys\n",
    "import time\n",
    "import json\n",
    "import warnings\n",
    "import numpy as np\n",
    "import pandas as pd\n",
    "import datetime as dtm\n",
    "\n",
    "try:\n",
    "    root = os.path.dirname(os.path.realpath(__file__))\n",
    "except:\n",
    "    root = os.getcwd()\n",
    "    \n",
    "warnings.simplefilter(action='ignore', category=pd.errors.PerformanceWarning)\n",
    "with warnings.catch_warnings():\n",
    "    warnings.simplefilter(action='ignore', category=pd.errors.PerformanceWarning)\n",
    "    from afc.ctrlWrapper import Controller, make_inputs\n",
    "    from afc.utility.weather import read_tmy3\n",
    "    from afc.radiance.configs import get_config\n",
    "    from afc.defaultConfig import default_parameter\n",
    "    from afc.utility.plotting import plot_standard1\n",
    "from doper.utility import download_cbc\n",
    "    \n",
    "# configure mpl\n",
    "import matplotlib as mpl\n",
    "mpl.rcParams['figure.dpi'] = 72\n",
    "%matplotlib inline"
   ]
  },
  {
   "cell_type": "code",
   "execution_count": 2,
   "id": "93332b33",
   "metadata": {},
   "outputs": [
    {
     "name": "stdout",
     "output_type": "stream",
     "text": [
      "WARNING: view_angle: Window below viewpoint.\n"
     ]
    },
    {
     "data": {
      "text/plain": [
       "'Duration [s]\\t\\t1.91\\nObjective [$]\\t\\t19.43\\t\\t\\t7.54 (Total Cost)\\nCost [$]\\t\\t12.33 (Energy)\\t6.98 (Demand)\\nCO2 Emissions [kg]\\t\\t0.0\\n'"
      ]
     },
     "execution_count": 2,
     "metadata": {},
     "output_type": "execute_result"
    }
   ],
   "source": [
    "# read weather (forecast) data\n",
    "weather_path = os.path.join(os.path.dirname(root), 'dev', 'resources', 'weather', \n",
    "    'USA_CA_San.Francisco.Intl.AP.724940_TMY3.csv')\n",
    "weather, info = read_tmy3(weather_path)\n",
    "weather = weather.resample('5T').interpolate()\n",
    "st = dtm.datetime(dtm.datetime.now().year, 7, 1)\n",
    "wf = weather.loc[st:st+pd.DateOffset(hours=24),]\n",
    "df = wf[['DryBulb','DNI','DHI','Wspd']].copy()\n",
    "df = df[df.index.date == df.index[0].date()]\n",
    "\n",
    "# Initialize controller\n",
    "ctrl = Controller()\n",
    "\n",
    "# Default parameter and inputs\n",
    "parameter = default_parameter(precompute_radiance=False)\n",
    "inputs = make_inputs(parameter, df)\n",
    "\n",
    "# Query controller\n",
    "ctrl.do_step(inputs=inputs) # Initialize\n",
    "# print('Log-message:\\n', ctrl.do_step(inputs=inputs))\n",
    "# print('Duration:\\n', ctrl.get_output(keys=['rad_duration','varts_duration','optall_duration','glare_duration',\n",
    "#                                            'opt_duration','outputs_duration','duration']))\n",
    "# print('Optimization:\\n', ctrl.get_output(keys=['opt_objective','opt_duration','opt_termination','duration']))\n",
    "# df = pd.DataFrame(ctrl.get_output(keys=['df_output'])['df_output'])\n",
    "# df.index = pd.to_datetime(df.index, unit='ms')"
   ]
  },
  {
   "cell_type": "code",
   "execution_count": 3,
   "id": "f5373808",
   "metadata": {
    "scrolled": false
   },
   "outputs": [],
   "source": [
    "parameter = ctrl.input['parameter']\n",
    "\n",
    "res = pd.DataFrame()\n",
    "for ver in ['2.10.3', '2.10.5', '2.10.6', '2.10.8', '2.10.10']:\n",
    "    \n",
    "    # specify cbc version\n",
    "    if ver == '2.10.3':\n",
    "        solver_path = '/home/Christoph/Documents/PrivateRepos/ESTCP-Controller/doper_private/src/DOPER/solvers/Linux64/cbc_original'\n",
    "    elif ver == '2.10.5':\n",
    "        solver_path = '/home/Christoph/Documents/PrivateRepos/ESTCP-Controller/doper_private/src/DOPER/solvers/Linux64/cbc'\n",
    "    else:\n",
    "        solver_path = os.path.join(root, f'cbc_{ver}')\n",
    "        if not os.path.exists(solver_path):\n",
    "            download_cbc(cbc_version=ver, root=root)\n",
    "    \n",
    "    # run optimization\n",
    "    ctrl.controller.solver_path = solver_path\n",
    "    t = ctrl.controller.do_optimization(ctrl.data, parameter=parameter,\n",
    "                                        options=ctrl.input['parameter']['solver_options'])\n",
    "    \n",
    "    # save results\n",
    "    duration, objective, df, _, _, termination, _ = t\n",
    "    res.loc[ver, 'duration'] = duration\n",
    "    res.loc[ver, 'objective'] = objective\n",
    "    res.loc[ver, 'termination'] = termination\n",
    "    res.loc[ver, 'df'] = df.to_json()"
   ]
  },
  {
   "cell_type": "code",
   "execution_count": 4,
   "id": "ffa6abbf",
   "metadata": {},
   "outputs": [
    {
     "data": {
      "text/html": [
       "<div>\n",
       "<style scoped>\n",
       "    .dataframe tbody tr th:only-of-type {\n",
       "        vertical-align: middle;\n",
       "    }\n",
       "\n",
       "    .dataframe tbody tr th {\n",
       "        vertical-align: top;\n",
       "    }\n",
       "\n",
       "    .dataframe thead th {\n",
       "        text-align: right;\n",
       "    }\n",
       "</style>\n",
       "<table border=\"1\" class=\"dataframe\">\n",
       "  <thead>\n",
       "    <tr style=\"text-align: right;\">\n",
       "      <th></th>\n",
       "      <th>duration</th>\n",
       "      <th>objective</th>\n",
       "      <th>termination</th>\n",
       "      <th>df</th>\n",
       "    </tr>\n",
       "  </thead>\n",
       "  <tbody>\n",
       "    <tr>\n",
       "      <th>2.10.3</th>\n",
       "      <td>1.757971</td>\n",
       "      <td>19.428663</td>\n",
       "      <td>optimal</td>\n",
       "      <td>{\"Import Power [kW]\":{\"1688169600000\":0.330632...</td>\n",
       "    </tr>\n",
       "    <tr>\n",
       "      <th>2.10.5</th>\n",
       "      <td>5.465958</td>\n",
       "      <td>19.428663</td>\n",
       "      <td>optimal</td>\n",
       "      <td>{\"Import Power [kW]\":{\"1688169600000\":0.330632...</td>\n",
       "    </tr>\n",
       "    <tr>\n",
       "      <th>2.10.6</th>\n",
       "      <td>1.950843</td>\n",
       "      <td>19.428663</td>\n",
       "      <td>optimal</td>\n",
       "      <td>{\"Import Power [kW]\":{\"1688169600000\":0.330632...</td>\n",
       "    </tr>\n",
       "    <tr>\n",
       "      <th>2.10.8</th>\n",
       "      <td>1.925287</td>\n",
       "      <td>19.428663</td>\n",
       "      <td>optimal</td>\n",
       "      <td>{\"Import Power [kW]\":{\"1688169600000\":0.330632...</td>\n",
       "    </tr>\n",
       "    <tr>\n",
       "      <th>2.10.10</th>\n",
       "      <td>1.903002</td>\n",
       "      <td>19.428663</td>\n",
       "      <td>optimal</td>\n",
       "      <td>{\"Import Power [kW]\":{\"1688169600000\":0.330632...</td>\n",
       "    </tr>\n",
       "  </tbody>\n",
       "</table>\n",
       "</div>"
      ],
      "text/plain": [
       "         duration  objective termination  \\\n",
       "2.10.3   1.757971  19.428663     optimal   \n",
       "2.10.5   5.465958  19.428663     optimal   \n",
       "2.10.6   1.950843  19.428663     optimal   \n",
       "2.10.8   1.925287  19.428663     optimal   \n",
       "2.10.10  1.903002  19.428663     optimal   \n",
       "\n",
       "                                                        df  \n",
       "2.10.3   {\"Import Power [kW]\":{\"1688169600000\":0.330632...  \n",
       "2.10.5   {\"Import Power [kW]\":{\"1688169600000\":0.330632...  \n",
       "2.10.6   {\"Import Power [kW]\":{\"1688169600000\":0.330632...  \n",
       "2.10.8   {\"Import Power [kW]\":{\"1688169600000\":0.330632...  \n",
       "2.10.10  {\"Import Power [kW]\":{\"1688169600000\":0.330632...  "
      ]
     },
     "execution_count": 4,
     "metadata": {},
     "output_type": "execute_result"
    }
   ],
   "source": [
    "res"
   ]
  },
  {
   "cell_type": "code",
   "execution_count": 5,
   "id": "83a9c709",
   "metadata": {},
   "outputs": [],
   "source": [
    "# plot_standard1(pd.concat([wf, df], axis=1).ffill())"
   ]
  },
  {
   "cell_type": "code",
   "execution_count": 6,
   "id": "1aa0e29b",
   "metadata": {},
   "outputs": [],
   "source": [
    "# for r in res.iterrows():\n",
    "#     pd.read_json(r[1]['df'])['Import Power [kW]'].plot()"
   ]
  }
 ],
 "metadata": {
  "kernelspec": {
   "display_name": "Python 3 (ipykernel)",
   "language": "python",
   "name": "python3"
  },
  "language_info": {
   "codemirror_mode": {
    "name": "ipython",
    "version": 3
   },
   "file_extension": ".py",
   "mimetype": "text/x-python",
   "name": "python",
   "nbconvert_exporter": "python",
   "pygments_lexer": "ipython3",
   "version": "3.8.0"
  }
 },
 "nbformat": 4,
 "nbformat_minor": 5
}
